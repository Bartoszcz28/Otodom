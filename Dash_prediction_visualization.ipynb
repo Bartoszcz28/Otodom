{
 "cells": [
  {
   "cell_type": "code",
   "execution_count": 1,
   "id": "d7239979",
   "metadata": {},
   "outputs": [
    {
     "name": "stdout",
     "output_type": "stream",
     "text": [
      "Requirement already satisfied: pandas in /opt/conda/lib/python3.9/site-packages (1.2.4)\n",
      "Requirement already satisfied: python-dateutil>=2.7.3 in /opt/conda/lib/python3.9/site-packages (from pandas) (2.8.1)\n",
      "Requirement already satisfied: pytz>=2017.3 in /opt/conda/lib/python3.9/site-packages (from pandas) (2021.1)\n",
      "Requirement already satisfied: numpy>=1.16.5 in /opt/conda/lib/python3.9/site-packages (from pandas) (1.20.3)\n",
      "Requirement already satisfied: six>=1.5 in /opt/conda/lib/python3.9/site-packages (from python-dateutil>=2.7.3->pandas) (1.16.0)\n",
      "Requirement already satisfied: numpy in /opt/conda/lib/python3.9/site-packages (1.20.3)\n",
      "Requirement already satisfied: dash in /opt/conda/lib/python3.9/site-packages (2.0.0)\n",
      "Requirement already satisfied: dash-core-components==2.0.0 in /opt/conda/lib/python3.9/site-packages (from dash) (2.0.0)\n",
      "Requirement already satisfied: dash-table==5.0.0 in /opt/conda/lib/python3.9/site-packages (from dash) (5.0.0)\n",
      "Requirement already satisfied: Flask>=1.0.4 in /opt/conda/lib/python3.9/site-packages (from dash) (2.0.1)\n",
      "Requirement already satisfied: plotly>=5.0.0 in /opt/conda/lib/python3.9/site-packages (from dash) (5.1.0)\n",
      "Requirement already satisfied: flask-compress in /opt/conda/lib/python3.9/site-packages (from dash) (1.10.1)\n",
      "Requirement already satisfied: dash-html-components==2.0.0 in /opt/conda/lib/python3.9/site-packages (from dash) (2.0.0)\n",
      "Requirement already satisfied: Werkzeug>=2.0 in /opt/conda/lib/python3.9/site-packages (from Flask>=1.0.4->dash) (2.0.1)\n",
      "Requirement already satisfied: itsdangerous>=2.0 in /opt/conda/lib/python3.9/site-packages (from Flask>=1.0.4->dash) (2.0.1)\n",
      "Requirement already satisfied: Jinja2>=3.0 in /opt/conda/lib/python3.9/site-packages (from Flask>=1.0.4->dash) (3.0.1)\n",
      "Requirement already satisfied: click>=7.1.2 in /opt/conda/lib/python3.9/site-packages (from Flask>=1.0.4->dash) (7.1.2)\n",
      "Requirement already satisfied: MarkupSafe>=2.0 in /opt/conda/lib/python3.9/site-packages (from Jinja2>=3.0->Flask>=1.0.4->dash) (2.0.1)\n",
      "Requirement already satisfied: tenacity>=6.2.0 in /opt/conda/lib/python3.9/site-packages (from plotly>=5.0.0->dash) (8.0.1)\n",
      "Requirement already satisfied: six in /opt/conda/lib/python3.9/site-packages (from plotly>=5.0.0->dash) (1.16.0)\n",
      "Requirement already satisfied: brotli in /opt/conda/lib/python3.9/site-packages (from flask-compress->dash) (1.0.9)\n"
     ]
    }
   ],
   "source": [
    "!pip install pandas\n",
    "!pip install numpy\n",
    "!pip install dash"
   ]
  },
  {
   "cell_type": "code",
   "execution_count": 2,
   "id": "15a2d749",
   "metadata": {},
   "outputs": [
    {
     "name": "stderr",
     "output_type": "stream",
     "text": [
      "<ipython-input-2-a6ee610aa330>:6: UserWarning: \n",
      "The dash_html_components package is deprecated. Please replace\n",
      "`import dash_html_components as html` with `from dash import html`\n",
      "  import dash_html_components as html\n",
      "<ipython-input-2-a6ee610aa330>:7: UserWarning: \n",
      "The dash_core_components package is deprecated. Please replace\n",
      "`import dash_core_components as dcc` with `from dash import dcc`\n",
      "  import dash_core_components as dcc\n"
     ]
    }
   ],
   "source": [
    "import numpy as np\n",
    "import pandas as pd\n",
    "\n",
    "import plotly.graph_objects as go\n",
    "import dash\n",
    "import dash_html_components as html\n",
    "import dash_core_components as dcc\n",
    "from dash.dependencies import Input, Output, State\n",
    "import plotly.express as px"
   ]
  },
  {
   "cell_type": "code",
   "execution_count": 3,
   "id": "e39933fe",
   "metadata": {},
   "outputs": [
    {
     "data": {
      "text/plain": [
       "('m2', 'deposit', 'number_of_floors', 'room_number', 'floor')"
      ]
     },
     "execution_count": 3,
     "metadata": {},
     "output_type": "execute_result"
    }
   ],
   "source": [
    "\"m2\",\"deposit\",\"number_of_floors\",\"room_number\",\"floor\""
   ]
  },
  {
   "cell_type": "code",
   "execution_count": null,
   "id": "093a3482",
   "metadata": {},
   "outputs": [
    {
     "name": "stdout",
     "output_type": "stream",
     "text": [
      "Dash is running on http://0.0.0.0:8050/\n",
      "\n",
      " * Serving Flask app '__main__' (lazy loading)\n",
      " * Environment: production\n",
      "\u001b[31m   WARNING: This is a development server. Do not use it in a production deployment.\u001b[0m\n",
      "\u001b[2m   Use a production WSGI server instead.\u001b[0m\n",
      " * Debug mode: off\n"
     ]
    },
    {
     "name": "stderr",
     "output_type": "stream",
     "text": [
      " * Running on all addresses.\n",
      "   WARNING: This is a development server. Do not use it in a production deployment.\n",
      " * Running on http://172.17.0.2:8050/ (Press CTRL+C to quit)\n",
      "192.168.10.24 - - [28/Sep/2021 22:39:38] \"GET / HTTP/1.1\" 200 -\n",
      "192.168.10.24 - - [28/Sep/2021 22:39:38] \"GET /_dash-layout HTTP/1.1\" 200 -\n",
      "192.168.10.24 - - [28/Sep/2021 22:39:38] \"GET /_dash-dependencies HTTP/1.1\" 200 -\n",
      "192.168.10.24 - - [28/Sep/2021 22:39:38] \"GET /_favicon.ico?v=2.0.0 HTTP/1.1\" 200 -\n"
     ]
    },
    {
     "name": "stdout",
     "output_type": "stream",
     "text": [
      "Exception on /_dash-update-component [POST]\n",
      "Traceback (most recent call last):\n",
      "  File \"/opt/conda/lib/python3.9/site-packages/flask/app.py\", line 2070, in wsgi_app\n",
      "    response = self.full_dispatch_request()\n",
      "  File \"/opt/conda/lib/python3.9/site-packages/flask/app.py\", line 1515, in full_dispatch_request\n",
      "    rv = self.handle_user_exception(e)\n",
      "  File \"/opt/conda/lib/python3.9/site-packages/flask/app.py\", line 1513, in full_dispatch_request\n",
      "    rv = self.dispatch_request()\n",
      "  File \"/opt/conda/lib/python3.9/site-packages/flask/app.py\", line 1499, in dispatch_request\n",
      "    return self.ensure_sync(self.view_functions[rule.endpoint])(**req.view_args)\n",
      "  File \"/opt/conda/lib/python3.9/site-packages/dash/dash.py\", line 1336, in dispatch\n",
      "    response.set_data(func(*args, outputs_list=outputs_list))\n",
      "  File \"/opt/conda/lib/python3.9/site-packages/dash/_callback.py\", line 151, in add_context\n",
      "    output_value = func(*func_args, **func_kwargs)  # %% callback invoked %%\n",
      "  File \"<ipython-input-4-43f1a10f90fe>\", line 31, in get_prediction\n",
      "    p_rent_price = (9.30279610e+01 * float(m2) + 1.07124067e-01 * float(deposit) +  1.25732500e+00 * float(number_of_floors) + -7.07839409e+02 * float(room_number) + 3.37884548e+01 * float(floor))\n",
      "TypeError: float() argument must be a string or a number, not 'NoneType'\n"
     ]
    },
    {
     "name": "stderr",
     "output_type": "stream",
     "text": [
      "192.168.10.24 - - [28/Sep/2021 22:39:39] \"\u001b[35m\u001b[1mPOST /_dash-update-component HTTP/1.1\u001b[0m\" 500 -\n",
      "192.168.10.24 - - [28/Sep/2021 22:39:39] \"GET /_favicon.ico?v=2.0.0 HTTP/1.1\" 200 -\n",
      "192.168.10.24 - - [28/Sep/2021 22:39:51] \"POST /_dash-update-component HTTP/1.1\" 200 -\n"
     ]
    },
    {
     "name": "stdout",
     "output_type": "stream",
     "text": [
      "Exception on /_dash-update-component [POST]\n",
      "Traceback (most recent call last):\n",
      "  File \"/opt/conda/lib/python3.9/site-packages/flask/app.py\", line 2070, in wsgi_app\n",
      "    response = self.full_dispatch_request()\n",
      "  File \"/opt/conda/lib/python3.9/site-packages/flask/app.py\", line 1515, in full_dispatch_request\n",
      "    rv = self.handle_user_exception(e)\n",
      "  File \"/opt/conda/lib/python3.9/site-packages/flask/app.py\", line 1513, in full_dispatch_request\n",
      "    rv = self.dispatch_request()\n",
      "  File \"/opt/conda/lib/python3.9/site-packages/flask/app.py\", line 1499, in dispatch_request\n",
      "    return self.ensure_sync(self.view_functions[rule.endpoint])(**req.view_args)\n",
      "  File \"/opt/conda/lib/python3.9/site-packages/dash/dash.py\", line 1336, in dispatch\n",
      "    response.set_data(func(*args, outputs_list=outputs_list))\n",
      "  File \"/opt/conda/lib/python3.9/site-packages/dash/_callback.py\", line 151, in add_context\n",
      "    output_value = func(*func_args, **func_kwargs)  # %% callback invoked %%\n",
      "  File \"<ipython-input-4-43f1a10f90fe>\", line 31, in get_prediction\n",
      "    p_rent_price = (9.30279610e+01 * float(m2) + 1.07124067e-01 * float(deposit) +  1.25732500e+00 * float(number_of_floors) + -7.07839409e+02 * float(room_number) + 3.37884548e+01 * float(floor))\n",
      "TypeError: float() argument must be a string or a number, not 'NoneType'\n"
     ]
    },
    {
     "name": "stderr",
     "output_type": "stream",
     "text": [
      "192.168.10.24 - - [28/Sep/2021 22:40:27] \"\u001b[35m\u001b[1mPOST /_dash-update-component HTTP/1.1\u001b[0m\" 500 -\n",
      "192.168.10.24 - - [28/Sep/2021 22:42:09] \"POST /_dash-update-component HTTP/1.1\" 200 -\n",
      "192.168.10.24 - - [28/Sep/2021 22:42:11] \"POST /_dash-update-component HTTP/1.1\" 200 -\n"
     ]
    }
   ],
   "source": [
    "app = dash.Dash(__name__)\n",
    "app.layout = html.Div(style={'text-align': 'center'}, children=[\n",
    "    html.H1('Rent price predyction',style={'textAlign': 'center','front-size' :50}),\n",
    "    html.Br(),\n",
    "    dcc.Input(id=\"m2\", type=\"number\", placeholder=\"m2\"),\n",
    "    html.Br(),\n",
    "    dcc.Input(id=\"deposit\", type=\"number\", placeholder=\"deposit\"),\n",
    "    html.Br(),\n",
    "    dcc.Input(id=\"number_of_floors\", type=\"number\", placeholder=\"number_of_floors\"),\n",
    "    html.Br(),\n",
    "    dcc.Input(id=\"room_number\", type=\"number\", placeholder=\"room_number\"),\n",
    "    html.Br(),\n",
    "    dcc.Input(id=\"floor\", type=\"number\", placeholder=\"floor\"),\n",
    "    html.Br(),\n",
    "    html.Button(id='my-button', n_clicks=0, children=\"Predict\"),\n",
    "    html.Br(),\n",
    "    html.Div(id='p_rent_price'),\n",
    "    html.Br()\n",
    "    ])\n",
    "@app.callback(\n",
    "    [dash.dependencies.Output('p_rent_price', 'children')],\n",
    "    [dash.dependencies.State('m2', 'value'),\n",
    "     dash.dependencies.State('deposit', 'value'),\n",
    "     dash.dependencies.State('number_of_floors', 'value'),\n",
    "     dash.dependencies.State('room_number', 'value'),\n",
    "     dash.dependencies.State('floor', 'value')],\n",
    "    [dash.dependencies.Input('my-button', 'n_clicks')]\n",
    "    )\n",
    "    \n",
    "def get_prediction(m2, deposit, number_of_floors, room_number, floor, n_clicks):\n",
    "    p_rent_price = (9.30279610e+01 * float(m2) + 1.07124067e-01 * float(deposit) +  1.25732500e+00 * float(number_of_floors) + -7.07839409e+02 * float(room_number) + 3.37884548e+01 * float(floor))\n",
    "    \n",
    "    return (p_rent_price, )\n",
    "\n",
    "if __name__ == '__main__':\n",
    "    app.run_server(host='0.0.0.0')"
   ]
  }
 ],
 "metadata": {
  "kernelspec": {
   "display_name": "Python 3",
   "language": "python",
   "name": "python3"
  },
  "language_info": {
   "codemirror_mode": {
    "name": "ipython",
    "version": 3
   },
   "file_extension": ".py",
   "mimetype": "text/x-python",
   "name": "python",
   "nbconvert_exporter": "python",
   "pygments_lexer": "ipython3",
   "version": "3.9.2"
  }
 },
 "nbformat": 4,
 "nbformat_minor": 5
}
