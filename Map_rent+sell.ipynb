{
 "cells": [
  {
   "cell_type": "markdown",
   "id": "e10ad760",
   "metadata": {},
   "source": [
    "# Visualization of the coordinates of the location of apartments for rent and sale from previously downloaded data"
   ]
  },
  {
   "cell_type": "code",
   "execution_count": 1,
   "id": "f27f648e",
   "metadata": {},
   "outputs": [
    {
     "name": "stdout",
     "output_type": "stream",
     "text": [
      "Requirement already satisfied: ipython-sql in /opt/conda/lib/python3.9/site-packages (0.4.0)\n",
      "Requirement already satisfied: sqlparse in /opt/conda/lib/python3.9/site-packages (from ipython-sql) (0.4.1)\n",
      "Requirement already satisfied: ipython>=1.0 in /opt/conda/lib/python3.9/site-packages (from ipython-sql) (7.23.1)\n",
      "Requirement already satisfied: sqlalchemy>=0.6.7 in /opt/conda/lib/python3.9/site-packages (from ipython-sql) (1.3.9)\n",
      "Requirement already satisfied: ipython-genutils>=0.1.0 in /opt/conda/lib/python3.9/site-packages (from ipython-sql) (0.2.0)\n",
      "Requirement already satisfied: six in /opt/conda/lib/python3.9/site-packages (from ipython-sql) (1.16.0)\n",
      "Requirement already satisfied: prettytable<1 in /opt/conda/lib/python3.9/site-packages (from ipython-sql) (0.7.2)\n",
      "Requirement already satisfied: backcall in /opt/conda/lib/python3.9/site-packages (from ipython>=1.0->ipython-sql) (0.2.0)\n",
      "Requirement already satisfied: pexpect>4.3 in /opt/conda/lib/python3.9/site-packages (from ipython>=1.0->ipython-sql) (4.8.0)\n",
      "Requirement already satisfied: pickleshare in /opt/conda/lib/python3.9/site-packages (from ipython>=1.0->ipython-sql) (0.7.5)\n",
      "Requirement already satisfied: prompt-toolkit!=3.0.0,!=3.0.1,<3.1.0,>=2.0.0 in /opt/conda/lib/python3.9/site-packages (from ipython>=1.0->ipython-sql) (3.0.18)\n",
      "Requirement already satisfied: pygments in /opt/conda/lib/python3.9/site-packages (from ipython>=1.0->ipython-sql) (2.9.0)\n",
      "Requirement already satisfied: jedi>=0.16 in /opt/conda/lib/python3.9/site-packages (from ipython>=1.0->ipython-sql) (0.18.0)\n",
      "Requirement already satisfied: matplotlib-inline in /opt/conda/lib/python3.9/site-packages (from ipython>=1.0->ipython-sql) (0.1.2)\n",
      "Requirement already satisfied: setuptools>=18.5 in /opt/conda/lib/python3.9/site-packages (from ipython>=1.0->ipython-sql) (49.6.0.post20210108)\n",
      "Requirement already satisfied: traitlets>=4.2 in /opt/conda/lib/python3.9/site-packages (from ipython>=1.0->ipython-sql) (5.0.5)\n",
      "Requirement already satisfied: decorator in /opt/conda/lib/python3.9/site-packages (from ipython>=1.0->ipython-sql) (5.0.9)\n",
      "Requirement already satisfied: parso<0.9.0,>=0.8.0 in /opt/conda/lib/python3.9/site-packages (from jedi>=0.16->ipython>=1.0->ipython-sql) (0.8.2)\n",
      "Requirement already satisfied: ptyprocess>=0.5 in /opt/conda/lib/python3.9/site-packages (from pexpect>4.3->ipython>=1.0->ipython-sql) (0.7.0)\n",
      "Requirement already satisfied: wcwidth in /opt/conda/lib/python3.9/site-packages (from prompt-toolkit!=3.0.0,!=3.0.1,<3.1.0,>=2.0.0->ipython>=1.0->ipython-sql) (0.2.5)\n",
      "Requirement already satisfied: psycopg2-binary in /opt/conda/lib/python3.9/site-packages (2.9.1)\n",
      "Requirement already satisfied: pandas in /opt/conda/lib/python3.9/site-packages (1.2.4)\n",
      "Requirement already satisfied: python-dateutil>=2.7.3 in /opt/conda/lib/python3.9/site-packages (from pandas) (2.8.1)\n",
      "Requirement already satisfied: pytz>=2017.3 in /opt/conda/lib/python3.9/site-packages (from pandas) (2021.1)\n",
      "Requirement already satisfied: numpy>=1.16.5 in /opt/conda/lib/python3.9/site-packages (from pandas) (1.20.3)\n",
      "Requirement already satisfied: six>=1.5 in /opt/conda/lib/python3.9/site-packages (from python-dateutil>=2.7.3->pandas) (1.16.0)\n",
      "Requirement already satisfied: numpy in /opt/conda/lib/python3.9/site-packages (1.20.3)\n",
      "Requirement already satisfied: numpy in /opt/conda/lib/python3.9/site-packages (1.20.3)\n",
      "Requirement already satisfied: matplotlib in /opt/conda/lib/python3.9/site-packages (3.4.2)\n",
      "Requirement already satisfied: cycler>=0.10 in /opt/conda/lib/python3.9/site-packages (from matplotlib) (0.10.0)\n",
      "Requirement already satisfied: kiwisolver>=1.0.1 in /opt/conda/lib/python3.9/site-packages (from matplotlib) (1.3.1)\n",
      "Requirement already satisfied: pyparsing>=2.2.1 in /opt/conda/lib/python3.9/site-packages (from matplotlib) (2.4.7)\n",
      "Requirement already satisfied: pillow>=6.2.0 in /opt/conda/lib/python3.9/site-packages (from matplotlib) (8.2.0)\n",
      "Requirement already satisfied: python-dateutil>=2.7 in /opt/conda/lib/python3.9/site-packages (from matplotlib) (2.8.1)\n",
      "Requirement already satisfied: six in /opt/conda/lib/python3.9/site-packages (from cycler>=0.10->matplotlib) (1.16.0)\n",
      "Requirement already satisfied: folium in /opt/conda/lib/python3.9/site-packages (0.12.1)\n",
      "Requirement already satisfied: branca>=0.3.0 in /opt/conda/lib/python3.9/site-packages (from folium) (0.4.2)\n",
      "Requirement already satisfied: requests in /opt/conda/lib/python3.9/site-packages (from folium) (2.25.1)\n",
      "Requirement already satisfied: numpy in /opt/conda/lib/python3.9/site-packages (from folium) (1.20.3)\n",
      "Requirement already satisfied: jinja2>=2.9 in /opt/conda/lib/python3.9/site-packages (from folium) (3.0.1)\n",
      "Requirement already satisfied: MarkupSafe>=2.0 in /opt/conda/lib/python3.9/site-packages (from jinja2>=2.9->folium) (2.0.1)\n",
      "Requirement already satisfied: urllib3<1.27,>=1.21.1 in /opt/conda/lib/python3.9/site-packages (from requests->folium) (1.26.4)\n",
      "Requirement already satisfied: certifi>=2017.4.17 in /opt/conda/lib/python3.9/site-packages (from requests->folium) (2020.12.5)\n",
      "Requirement already satisfied: chardet<5,>=3.0.2 in /opt/conda/lib/python3.9/site-packages (from requests->folium) (4.0.0)\n",
      "Requirement already satisfied: idna<3,>=2.5 in /opt/conda/lib/python3.9/site-packages (from requests->folium) (2.10)\n",
      "Requirement already satisfied: geojson in /opt/conda/lib/python3.9/site-packages (2.5.0)\n"
     ]
    }
   ],
   "source": [
    "!pip install ipython-sql\n",
    "!pip install psycopg2-binary\n",
    "!pip install pandas\n",
    "!pip install numpy\n",
    "!pip install numpy matplotlib\n",
    "!pip install folium\n",
    "!pip install geojson"
   ]
  },
  {
   "cell_type": "code",
   "execution_count": 2,
   "id": "db37747e",
   "metadata": {},
   "outputs": [],
   "source": [
    "import numpy as np\n",
    "import pandas as pd\n",
    "import psycopg2\n",
    "import pandas.io.sql as sqlio\n",
    "import matplotlib.pyplot as plt\n",
    "import pylab as pl\n",
    "import folium\n",
    "import json\n",
    "import os\n",
    "from folium import plugins\n",
    "%matplotlib inline"
   ]
  },
  {
   "cell_type": "markdown",
   "id": "3e2427c8",
   "metadata": {},
   "source": [
    "## Connecting to the database"
   ]
  },
  {
   "cell_type": "code",
   "execution_count": 3,
   "id": "da78a443",
   "metadata": {},
   "outputs": [],
   "source": [
    "psql = psycopg2.connect(host='192.168.10.163', port='5432', database='Otodom', user='barto', password='biznes')"
   ]
  },
  {
   "cell_type": "markdown",
   "id": "aa809ed9",
   "metadata": {},
   "source": [
    "### Retrieving the sale and rent table from the database"
   ]
  },
  {
   "cell_type": "code",
   "execution_count": 4,
   "id": "83a785d1",
   "metadata": {},
   "outputs": [],
   "source": [
    "cur = psql.cursor()\n",
    "sql_rent = \"select * from Warsaw_rent;\"\n",
    "sql_sell = \"select * from Warsaw_sell;\"\n",
    "dat_rent = sqlio.read_sql_query(sql_rent, psql)\n",
    "dat_sell = sqlio.read_sql_query(sql_sell, psql)\n",
    "conn = None"
   ]
  },
  {
   "cell_type": "markdown",
   "id": "2b0c1ab0",
   "metadata": {},
   "source": [
    "## Create a map"
   ]
  },
  {
   "cell_type": "code",
   "execution_count": 5,
   "id": "bb57d5c6",
   "metadata": {},
   "outputs": [],
   "source": [
    "my_map = folium.Map()\n",
    "world = folium.Map(\n",
    "    zoom_start=11,\n",
    "    location=[52.2380549, 21.0293513], prefer_canvas=True)\n",
    "# prefer_canvas=True - loading map faster"
   ]
  },
  {
   "cell_type": "markdown",
   "id": "6d89cea5",
   "metadata": {},
   "source": [
    "Save the map"
   ]
  },
  {
   "cell_type": "code",
   "execution_count": 6,
   "id": "2feaa230",
   "metadata": {},
   "outputs": [],
   "source": [
    "world.save('Map_rent+sell.html')"
   ]
  },
  {
   "cell_type": "markdown",
   "id": "9a15e172",
   "metadata": {},
   "source": [
    "Selecting geographic coordinates from the sale and rent tables"
   ]
  },
  {
   "cell_type": "code",
   "execution_count": 7,
   "id": "114d52ab",
   "metadata": {},
   "outputs": [],
   "source": [
    "lok_sell = dat_sell[[\"latitude\",\"longitude\"]]\n",
    "lok_rent = dat_rent[[\"latitude\",\"longitude\"]]"
   ]
  },
  {
   "cell_type": "markdown",
   "id": "924134a2",
   "metadata": {},
   "source": [
    "Data cleaning"
   ]
  },
  {
   "cell_type": "code",
   "execution_count": 8,
   "id": "6ac2c112",
   "metadata": {},
   "outputs": [
    {
     "name": "stdout",
     "output_type": "stream",
     "text": [
      "Drop rows where Nan from table sell:  155\n",
      "Drop rows where Nan from table sell:  180\n"
     ]
    }
   ],
   "source": [
    "\n",
    "a = 0\n",
    "for index, row in lok_sell.iterrows():\n",
    "    if np.isnan(lok_sell.at[index,'latitude']) or np.isnan(lok_sell.at[index,'longitude']):\n",
    "        lok_sell = lok_sell.drop([index])\n",
    "        a += 1\n",
    "print(\"Drop rows where Nan from table sell: \", a)\n",
    "\n",
    "b = 0\n",
    "for index, row in lok_rent.iterrows():\n",
    "    if np.isnan(lok_rent.at[index,'latitude']) or np.isnan(lok_rent.at[index,'longitude']):\n",
    "        lok_rent = lok_rent.drop([index])\n",
    "        b += 1\n",
    "print(\"Drop rows where Nan from table sell: \", b)"
   ]
  },
  {
   "cell_type": "code",
   "execution_count": 9,
   "id": "0d1fd8a7",
   "metadata": {},
   "outputs": [
    {
     "name": "stdout",
     "output_type": "stream",
     "text": [
      "(2318, 2)\n",
      "(2417, 2)\n"
     ]
    }
   ],
   "source": [
    "print(lok_rent.shape)\n",
    "print(lok_sell.shape)"
   ]
  },
  {
   "cell_type": "markdown",
   "id": "faf847b8",
   "metadata": {},
   "source": [
    "Index reset"
   ]
  },
  {
   "cell_type": "code",
   "execution_count": 10,
   "id": "d2d24695",
   "metadata": {},
   "outputs": [],
   "source": [
    "lok_sell = lok_sell.reset_index(drop=True)\n",
    "lok_rent = lok_rent.reset_index(drop=True)"
   ]
  },
  {
   "cell_type": "code",
   "execution_count": 11,
   "id": "3fa346b4",
   "metadata": {},
   "outputs": [],
   "source": [
    "world = plugins.MarkerCluster().add_to(world)"
   ]
  },
  {
   "cell_type": "markdown",
   "id": "a6ec8596",
   "metadata": {},
   "source": [
    "Add markers to the map - rent"
   ]
  },
  {
   "cell_type": "code",
   "execution_count": 12,
   "id": "9fcfffda",
   "metadata": {},
   "outputs": [],
   "source": [
    "for row in range(len(lok_rent.index)):\n",
    "    folium.CircleMarker(\n",
    "        location=[lok_rent.at[row,'latitude'], lok_rent.at[row,'longitude']],\n",
    "        radius=3,\n",
    "        popup='My Birthplace',\n",
    "        color='blue',\n",
    "        fill=True,\n",
    "        fill_color='blue',\n",
    "        fill_opacity=1\n",
    "    ).add_to(world)\n",
    "    \n",
    "    # '#428bca' - blue"
   ]
  },
  {
   "cell_type": "markdown",
   "id": "0b759d47",
   "metadata": {},
   "source": [
    "Add markers to the map - sell"
   ]
  },
  {
   "cell_type": "code",
   "execution_count": 13,
   "id": "32be7513",
   "metadata": {},
   "outputs": [],
   "source": [
    "for row in range(len(lok_sell.index)):\n",
    "    folium.CircleMarker(\n",
    "        location=[lok_sell.at[row,'latitude'], lok_sell.at[row,'longitude']],\n",
    "        radius=3,\n",
    "        popup='My Birthplace',\n",
    "        color='red',\n",
    "        fill=True,\n",
    "        fill_color='red',\n",
    "        fill_opacity=1\n",
    "    ).add_to(world)"
   ]
  },
  {
   "cell_type": "markdown",
   "id": "8871f8ee",
   "metadata": {},
   "source": [
    "Save Map"
   ]
  },
  {
   "cell_type": "code",
   "execution_count": 14,
   "id": "8a8bf8f6",
   "metadata": {},
   "outputs": [],
   "source": [
    "world.save('Map_rent+sell.html')"
   ]
  },
  {
   "cell_type": "markdown",
   "id": "9fa47017",
   "metadata": {},
   "source": [
    "Show Map"
   ]
  },
  {
   "cell_type": "code",
   "execution_count": 15,
   "id": "e5a3a03f",
   "metadata": {},
   "outputs": [
    {
     "data": {
      "text/plain": [
       "<folium.plugins.marker_cluster.MarkerCluster at 0x7fea9cff2520>"
      ]
     },
     "execution_count": 15,
     "metadata": {},
     "output_type": "execute_result"
    }
   ],
   "source": [
    "world"
   ]
  },
  {
   "cell_type": "code",
   "execution_count": null,
   "id": "28968b40",
   "metadata": {},
   "outputs": [],
   "source": []
  }
 ],
 "metadata": {
  "kernelspec": {
   "display_name": "Python 3",
   "language": "python",
   "name": "python3"
  },
  "language_info": {
   "codemirror_mode": {
    "name": "ipython",
    "version": 3
   },
   "file_extension": ".py",
   "mimetype": "text/x-python",
   "name": "python",
   "nbconvert_exporter": "python",
   "pygments_lexer": "ipython3",
   "version": "3.9.2"
  }
 },
 "nbformat": 4,
 "nbformat_minor": 5
}
