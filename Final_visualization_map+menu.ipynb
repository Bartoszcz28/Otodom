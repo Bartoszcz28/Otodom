{
 "cells": [
  {
   "cell_type": "code",
   "execution_count": 1,
   "id": "81540e4d",
   "metadata": {},
   "outputs": [
    {
     "name": "stdout",
     "output_type": "stream",
     "text": [
      "Requirement already satisfied: dash in /opt/conda/lib/python3.9/site-packages (2.0.0)\n",
      "Requirement already satisfied: flask-compress in /opt/conda/lib/python3.9/site-packages (from dash) (1.10.1)\n",
      "Requirement already satisfied: dash-core-components==2.0.0 in /opt/conda/lib/python3.9/site-packages (from dash) (2.0.0)\n",
      "Requirement already satisfied: dash-html-components==2.0.0 in /opt/conda/lib/python3.9/site-packages (from dash) (2.0.0)\n",
      "Requirement already satisfied: Flask>=1.0.4 in /opt/conda/lib/python3.9/site-packages (from dash) (2.0.1)\n",
      "Requirement already satisfied: plotly>=5.0.0 in /opt/conda/lib/python3.9/site-packages (from dash) (5.1.0)\n",
      "Requirement already satisfied: dash-table==5.0.0 in /opt/conda/lib/python3.9/site-packages (from dash) (5.0.0)\n",
      "Requirement already satisfied: itsdangerous>=2.0 in /opt/conda/lib/python3.9/site-packages (from Flask>=1.0.4->dash) (2.0.1)\n",
      "Requirement already satisfied: click>=7.1.2 in /opt/conda/lib/python3.9/site-packages (from Flask>=1.0.4->dash) (7.1.2)\n",
      "Requirement already satisfied: Jinja2>=3.0 in /opt/conda/lib/python3.9/site-packages (from Flask>=1.0.4->dash) (3.0.1)\n",
      "Requirement already satisfied: Werkzeug>=2.0 in /opt/conda/lib/python3.9/site-packages (from Flask>=1.0.4->dash) (2.0.1)\n",
      "Requirement already satisfied: MarkupSafe>=2.0 in /opt/conda/lib/python3.9/site-packages (from Jinja2>=3.0->Flask>=1.0.4->dash) (2.0.1)\n",
      "Requirement already satisfied: tenacity>=6.2.0 in /opt/conda/lib/python3.9/site-packages (from plotly>=5.0.0->dash) (8.0.1)\n",
      "Requirement already satisfied: six in /opt/conda/lib/python3.9/site-packages (from plotly>=5.0.0->dash) (1.16.0)\n",
      "Requirement already satisfied: brotli in /opt/conda/lib/python3.9/site-packages (from flask-compress->dash) (1.0.9)\n",
      "Requirement already satisfied: ipython-sql in /opt/conda/lib/python3.9/site-packages (0.4.0)\n",
      "Requirement already satisfied: sqlparse in /opt/conda/lib/python3.9/site-packages (from ipython-sql) (0.4.1)\n",
      "Requirement already satisfied: ipython>=1.0 in /opt/conda/lib/python3.9/site-packages (from ipython-sql) (7.23.1)\n",
      "Requirement already satisfied: six in /opt/conda/lib/python3.9/site-packages (from ipython-sql) (1.16.0)\n",
      "Requirement already satisfied: ipython-genutils>=0.1.0 in /opt/conda/lib/python3.9/site-packages (from ipython-sql) (0.2.0)\n",
      "Requirement already satisfied: sqlalchemy>=0.6.7 in /opt/conda/lib/python3.9/site-packages (from ipython-sql) (1.3.9)\n",
      "Requirement already satisfied: prettytable<1 in /opt/conda/lib/python3.9/site-packages (from ipython-sql) (0.7.2)\n",
      "Requirement already satisfied: decorator in /opt/conda/lib/python3.9/site-packages (from ipython>=1.0->ipython-sql) (5.0.9)\n",
      "Requirement already satisfied: pickleshare in /opt/conda/lib/python3.9/site-packages (from ipython>=1.0->ipython-sql) (0.7.5)\n",
      "Requirement already satisfied: pexpect>4.3 in /opt/conda/lib/python3.9/site-packages (from ipython>=1.0->ipython-sql) (4.8.0)\n",
      "Requirement already satisfied: matplotlib-inline in /opt/conda/lib/python3.9/site-packages (from ipython>=1.0->ipython-sql) (0.1.2)\n",
      "Requirement already satisfied: jedi>=0.16 in /opt/conda/lib/python3.9/site-packages (from ipython>=1.0->ipython-sql) (0.18.0)\n",
      "Requirement already satisfied: pygments in /opt/conda/lib/python3.9/site-packages (from ipython>=1.0->ipython-sql) (2.9.0)\n",
      "Requirement already satisfied: traitlets>=4.2 in /opt/conda/lib/python3.9/site-packages (from ipython>=1.0->ipython-sql) (5.0.5)\n",
      "Requirement already satisfied: prompt-toolkit!=3.0.0,!=3.0.1,<3.1.0,>=2.0.0 in /opt/conda/lib/python3.9/site-packages (from ipython>=1.0->ipython-sql) (3.0.18)\n",
      "Requirement already satisfied: backcall in /opt/conda/lib/python3.9/site-packages (from ipython>=1.0->ipython-sql) (0.2.0)\n",
      "Requirement already satisfied: setuptools>=18.5 in /opt/conda/lib/python3.9/site-packages (from ipython>=1.0->ipython-sql) (49.6.0.post20210108)\n",
      "Requirement already satisfied: parso<0.9.0,>=0.8.0 in /opt/conda/lib/python3.9/site-packages (from jedi>=0.16->ipython>=1.0->ipython-sql) (0.8.2)\n",
      "Requirement already satisfied: ptyprocess>=0.5 in /opt/conda/lib/python3.9/site-packages (from pexpect>4.3->ipython>=1.0->ipython-sql) (0.7.0)\n",
      "Requirement already satisfied: wcwidth in /opt/conda/lib/python3.9/site-packages (from prompt-toolkit!=3.0.0,!=3.0.1,<3.1.0,>=2.0.0->ipython>=1.0->ipython-sql) (0.2.5)\n",
      "Requirement already satisfied: psycopg2-binary in /opt/conda/lib/python3.9/site-packages (2.9.1)\n",
      "Requirement already satisfied: pandas in /opt/conda/lib/python3.9/site-packages (1.2.4)\n",
      "Requirement already satisfied: python-dateutil>=2.7.3 in /opt/conda/lib/python3.9/site-packages (from pandas) (2.8.1)\n",
      "Requirement already satisfied: pytz>=2017.3 in /opt/conda/lib/python3.9/site-packages (from pandas) (2021.1)\n",
      "Requirement already satisfied: numpy>=1.16.5 in /opt/conda/lib/python3.9/site-packages (from pandas) (1.20.3)\n",
      "Requirement already satisfied: six>=1.5 in /opt/conda/lib/python3.9/site-packages (from python-dateutil>=2.7.3->pandas) (1.16.0)\n",
      "Requirement already satisfied: numpy in /opt/conda/lib/python3.9/site-packages (1.20.3)\n",
      "Requirement already satisfied: numpy in /opt/conda/lib/python3.9/site-packages (1.20.3)\n",
      "Requirement already satisfied: matplotlib in /opt/conda/lib/python3.9/site-packages (3.4.2)\n",
      "Requirement already satisfied: cycler>=0.10 in /opt/conda/lib/python3.9/site-packages (from matplotlib) (0.10.0)\n",
      "Requirement already satisfied: python-dateutil>=2.7 in /opt/conda/lib/python3.9/site-packages (from matplotlib) (2.8.1)\n",
      "Requirement already satisfied: pillow>=6.2.0 in /opt/conda/lib/python3.9/site-packages (from matplotlib) (8.2.0)\n",
      "Requirement already satisfied: kiwisolver>=1.0.1 in /opt/conda/lib/python3.9/site-packages (from matplotlib) (1.3.1)\n",
      "Requirement already satisfied: pyparsing>=2.2.1 in /opt/conda/lib/python3.9/site-packages (from matplotlib) (2.4.7)\n",
      "Requirement already satisfied: six in /opt/conda/lib/python3.9/site-packages (from cycler>=0.10->matplotlib) (1.16.0)\n",
      "Requirement already satisfied: folium in /opt/conda/lib/python3.9/site-packages (0.12.1)\n",
      "Requirement already satisfied: requests in /opt/conda/lib/python3.9/site-packages (from folium) (2.25.1)\n",
      "Requirement already satisfied: numpy in /opt/conda/lib/python3.9/site-packages (from folium) (1.20.3)\n",
      "Requirement already satisfied: jinja2>=2.9 in /opt/conda/lib/python3.9/site-packages (from folium) (3.0.1)\n",
      "Requirement already satisfied: branca>=0.3.0 in /opt/conda/lib/python3.9/site-packages (from folium) (0.4.2)\n",
      "Requirement already satisfied: MarkupSafe>=2.0 in /opt/conda/lib/python3.9/site-packages (from jinja2>=2.9->folium) (2.0.1)\n",
      "Requirement already satisfied: chardet<5,>=3.0.2 in /opt/conda/lib/python3.9/site-packages (from requests->folium) (4.0.0)\n",
      "Requirement already satisfied: certifi>=2017.4.17 in /opt/conda/lib/python3.9/site-packages (from requests->folium) (2020.12.5)\n",
      "Requirement already satisfied: idna<3,>=2.5 in /opt/conda/lib/python3.9/site-packages (from requests->folium) (2.10)\n",
      "Requirement already satisfied: urllib3<1.27,>=1.21.1 in /opt/conda/lib/python3.9/site-packages (from requests->folium) (1.26.4)\n",
      "Requirement already satisfied: geojson in /opt/conda/lib/python3.9/site-packages (2.5.0)\n",
      "Requirement already satisfied: jobspy in /opt/conda/lib/python3.9/site-packages (0.28.1)\n",
      "Requirement already satisfied: redis>=3.0.0 in /opt/conda/lib/python3.9/site-packages (from jobspy) (3.5.3)\n"
     ]
    }
   ],
   "source": [
    "!pip install dash\n",
    "!pip install ipython-sql\n",
    "!pip install psycopg2-binary\n",
    "!pip install pandas\n",
    "!pip install numpy\n",
    "!pip install numpy matplotlib\n",
    "!pip install folium\n",
    "!pip install geojson\n",
    "!pip install jobspy"
   ]
  },
  {
   "cell_type": "code",
   "execution_count": 2,
   "id": "474cd161",
   "metadata": {},
   "outputs": [
    {
     "name": "stderr",
     "output_type": "stream",
     "text": [
      "<ipython-input-2-9a3040288960>:15: UserWarning: \n",
      "The dash_html_components package is deprecated. Please replace\n",
      "`import dash_html_components as html` with `from dash import html`\n",
      "  import dash_html_components as html\n",
      "<ipython-input-2-9a3040288960>:16: UserWarning: \n",
      "The dash_core_components package is deprecated. Please replace\n",
      "`import dash_core_components as dcc` with `from dash import dcc`\n",
      "  import dash_core_components as dcc\n"
     ]
    }
   ],
   "source": [
    "import numpy as np\n",
    "import pandas as pd\n",
    "import psycopg2\n",
    "import pandas.io.sql as sqlio\n",
    "import matplotlib.pyplot as plt\n",
    "import pylab as pl\n",
    "import folium\n",
    "import json\n",
    "import os\n",
    "from folium import plugins\n",
    "%matplotlib inline\n",
    "\n",
    "import plotly.graph_objects as go\n",
    "import dash\n",
    "import dash_html_components as html\n",
    "import dash_core_components as dcc\n",
    "from dash.dependencies import Input, Output, State\n",
    "import plotly.express as px\n"
   ]
  },
  {
   "cell_type": "code",
   "execution_count": 3,
   "id": "d7cc6b4f",
   "metadata": {},
   "outputs": [],
   "source": [
    "psql = psycopg2.connect(host='192.168.10.163', port='5432', database='Otodom', user='barto', password='biznes')"
   ]
  },
  {
   "cell_type": "code",
   "execution_count": 4,
   "id": "3f0fffeb",
   "metadata": {},
   "outputs": [],
   "source": [
    "cur = psql.cursor()\n",
    "sql_rent = \"select * from Warsaw_rent;\"\n",
    "sql_sell = \"select * from Warsaw_sell;\"\n",
    "dat_rent = sqlio.read_sql_query(sql_rent, psql)\n",
    "dat_sell = sqlio.read_sql_query(sql_sell, psql)\n",
    "conn = None"
   ]
  },
  {
   "cell_type": "code",
   "execution_count": 5,
   "id": "a2a266ca",
   "metadata": {},
   "outputs": [],
   "source": [
    "# my_map = folium.Map()\n",
    "# world = folium.Map(\n",
    "#     zoom_start=11,\n",
    "#     location=[52.2380549, 21.0293513], prefer_canvas=True)"
   ]
  },
  {
   "cell_type": "code",
   "execution_count": 6,
   "id": "d808489f",
   "metadata": {},
   "outputs": [],
   "source": [
    "lok_sell = dat_sell[[\"latitude\",\"longitude\",\"price\"]]\n",
    "lok_rent = dat_rent[[\"latitude\",\"longitude\",\"rent_price\"]]"
   ]
  },
  {
   "cell_type": "code",
   "execution_count": 7,
   "id": "22ac7a1f",
   "metadata": {},
   "outputs": [
    {
     "name": "stdout",
     "output_type": "stream",
     "text": [
      "Drop rows where Nan from table sell:  311\n",
      "Drop rows where Nan from table rent:  182\n"
     ]
    }
   ],
   "source": [
    "a = 0\n",
    "for index, row in lok_sell.iterrows():\n",
    "    if np.isnan(lok_sell.at[index,'latitude']) or np.isnan(lok_sell.at[index,'longitude']) or np.isnan(lok_sell.at[index,'price']):\n",
    "        lok_sell = lok_sell.drop([index])\n",
    "        a += 1\n",
    "print(\"Drop rows where Nan from table sell: \", a)\n",
    "\n",
    "b = 0\n",
    "for index, row in lok_rent.iterrows():\n",
    "    if np.isnan(lok_rent.at[index,'latitude']) or np.isnan(lok_rent.at[index,'longitude']) or np.isnan(lok_rent.at[index,'rent_price']):\n",
    "        lok_rent = lok_rent.drop([index])\n",
    "        b += 1\n",
    "print(\"Drop rows where Nan from table rent: \", b)"
   ]
  },
  {
   "cell_type": "code",
   "execution_count": 8,
   "id": "dd66bc94",
   "metadata": {},
   "outputs": [],
   "source": [
    "lok_sell = lok_sell.reset_index(drop=True)\n",
    "lok_rent = lok_rent.reset_index(drop=True)"
   ]
  },
  {
   "cell_type": "code",
   "execution_count": 9,
   "id": "0447b2ba",
   "metadata": {},
   "outputs": [],
   "source": [
    "# world = plugins.MarkerCluster().add_to(world)"
   ]
  },
  {
   "cell_type": "code",
   "execution_count": 10,
   "id": "c8d08952",
   "metadata": {},
   "outputs": [],
   "source": [
    "# for row in range(len(lok_rent.index)):\n",
    "#     folium.CircleMarker(\n",
    "#         location=[lok_rent.at[row,'latitude'], lok_rent.at[row,'longitude']],\n",
    "#         radius=3,\n",
    "#         popup='Rent price: '+ str(lok_rent.at[row,'rent_price']),\n",
    "#         color='blue',\n",
    "#         fill=True,\n",
    "#         fill_color='blue',\n",
    "#         fill_opacity=1\n",
    "#     ).add_to(world)"
   ]
  },
  {
   "cell_type": "code",
   "execution_count": 11,
   "id": "1dde8499",
   "metadata": {},
   "outputs": [],
   "source": [
    "# for row in range(len(lok_sell.index)):\n",
    "#     folium.CircleMarker(\n",
    "#         location=[lok_sell.at[row,'latitude'], lok_sell.at[row,'longitude']],\n",
    "#         radius=3,\n",
    "#         popup='Sell price: ' + str(lok_sell.at[row,'price']),\n",
    "#         color='red',\n",
    "#         fill=True,\n",
    "#         fill_color='red',\n",
    "#         fill_opacity=1\n",
    "#     ).add_to(world)"
   ]
  },
  {
   "cell_type": "code",
   "execution_count": 12,
   "id": "ad06bc3f",
   "metadata": {},
   "outputs": [],
   "source": [
    "# def Sell_Price_Limiter(Price_MIN_Sell, Price_MAX_Sell):\n",
    "#     my_world = world\n",
    "#     lok_sell_limit = lok_sell[lok_sell.price.between(Price_MIN_Sell, Price_MAX_Sell, inclusive=False)]\n",
    "#     lok_sell_limit = lok_sell_limit.reset_index(drop=True)\n",
    "#     for row in range(len(lok_sell_limit.index)):\n",
    "#         folium.CircleMarker(\n",
    "#             location=[lok_sell_limit.at[row,'latitude'], lok_sell_limit.at[row,'longitude']],\n",
    "#             radius=3,\n",
    "#             popup='Sell price: ' + str(lok_sell_limit.at[row,'price']),\n",
    "#             color='red',\n",
    "#             fill=True,\n",
    "#             fill_color='red',\n",
    "#             fill_opacity=1\n",
    "#         ).add_to(my_world)\n",
    "#     html_string = my_world.get_root().render()"
   ]
  },
  {
   "cell_type": "code",
   "execution_count": 13,
   "id": "d23ea01c",
   "metadata": {},
   "outputs": [],
   "source": [
    "# world.save('Final_visualization.html')\n",
    "# world\n",
    "# html_string = world.get_root().render()\n",
    "#  open('Final_visualization.html', 'r').read("
   ]
  },
  {
   "cell_type": "code",
   "execution_count": 14,
   "id": "3ac4cd1b",
   "metadata": {},
   "outputs": [],
   "source": [
    "# world = folium.Map(\n",
    "#     zoom_start=11,\n",
    "#     location=[52.2380549, 21.0293513], prefer_canvas=True)\n",
    "# world = plugins.MarkerCluster().add_to(world)\n",
    "# html_string = my_world.get_root().render()"
   ]
  },
  {
   "cell_type": "code",
   "execution_count": 15,
   "id": "96759c71",
   "metadata": {},
   "outputs": [],
   "source": [
    "def world_new():    \n",
    "    my_world = folium.Map(\n",
    "    zoom_start=11,\n",
    "    location=[52.2380549, 21.0293513], prefer_canvas=True)\n",
    "    my_world = plugins.MarkerCluster().add_to(my_world)\n",
    "    return my_world"
   ]
  },
  {
   "cell_type": "code",
   "execution_count": 16,
   "id": "840a8321",
   "metadata": {},
   "outputs": [],
   "source": [
    "def start():\n",
    "    start = -1\n",
    "    return start"
   ]
  },
  {
   "cell_type": "code",
   "execution_count": null,
   "id": "1ac45c2a",
   "metadata": {},
   "outputs": [
    {
     "name": "stdout",
     "output_type": "stream",
     "text": [
      "Dash is running on http://0.0.0.0:8050/\n",
      "\n",
      " * Serving Flask app '__main__' (lazy loading)\n",
      " * Environment: production\n",
      "\u001b[31m   WARNING: This is a development server. Do not use it in a production deployment.\u001b[0m\n",
      "\u001b[2m   Use a production WSGI server instead.\u001b[0m\n",
      " * Debug mode: off\n"
     ]
    },
    {
     "name": "stderr",
     "output_type": "stream",
     "text": [
      " * Running on all addresses.\n",
      "   WARNING: This is a development server. Do not use it in a production deployment.\n",
      " * Running on http://172.17.0.2:8050/ (Press CTRL+C to quit)\n",
      "192.168.10.24 - - [25/Sep/2021 20:43:54] \"GET / HTTP/1.1\" 200 -\n",
      "192.168.10.24 - - [25/Sep/2021 20:43:54] \"GET /_dash-dependencies HTTP/1.1\" 200 -\n",
      "192.168.10.24 - - [25/Sep/2021 20:43:54] \"GET /_dash-layout HTTP/1.1\" 200 -\n",
      "192.168.10.24 - - [25/Sep/2021 20:43:54] \"GET /_favicon.ico?v=2.0.0 HTTP/1.1\" 200 -\n"
     ]
    },
    {
     "name": "stdout",
     "output_type": "stream",
     "text": [
      "Exception on /_dash-update-component [POST]\n",
      "Traceback (most recent call last):\n",
      "  File \"/opt/conda/lib/python3.9/site-packages/flask/app.py\", line 2070, in wsgi_app\n",
      "    response = self.full_dispatch_request()\n",
      "  File \"/opt/conda/lib/python3.9/site-packages/flask/app.py\", line 1515, in full_dispatch_request\n",
      "    rv = self.handle_user_exception(e)\n",
      "  File \"/opt/conda/lib/python3.9/site-packages/flask/app.py\", line 1513, in full_dispatch_request\n",
      "    rv = self.dispatch_request()\n",
      "  File \"/opt/conda/lib/python3.9/site-packages/flask/app.py\", line 1499, in dispatch_request\n",
      "    return self.ensure_sync(self.view_functions[rule.endpoint])(**req.view_args)\n",
      "  File \"/opt/conda/lib/python3.9/site-packages/dash/dash.py\", line 1336, in dispatch\n",
      "    response.set_data(func(*args, outputs_list=outputs_list))\n",
      "  File \"/opt/conda/lib/python3.9/site-packages/dash/_callback.py\", line 151, in add_context\n",
      "    output_value = func(*func_args, **func_kwargs)  # %% callback invoked %%\n",
      "TypeError: Rent_Price_Limiter() takes 3 positional arguments but 6 were given\n"
     ]
    },
    {
     "name": "stderr",
     "output_type": "stream",
     "text": [
      "192.168.10.24 - - [25/Sep/2021 20:43:54] \"\u001b[35m\u001b[1mPOST /_dash-update-component HTTP/1.1\u001b[0m\" 500 -\n",
      "192.168.10.24 - - [25/Sep/2021 20:43:54] \"GET /_favicon.ico?v=2.0.0 HTTP/1.1\" 200 -\n"
     ]
    },
    {
     "name": "stdout",
     "output_type": "stream",
     "text": [
      "Exception on /_dash-update-component [POST]\n",
      "Traceback (most recent call last):\n",
      "  File \"/opt/conda/lib/python3.9/site-packages/flask/app.py\", line 2070, in wsgi_app\n",
      "    response = self.full_dispatch_request()\n",
      "  File \"/opt/conda/lib/python3.9/site-packages/flask/app.py\", line 1515, in full_dispatch_request\n",
      "    rv = self.handle_user_exception(e)\n",
      "  File \"/opt/conda/lib/python3.9/site-packages/flask/app.py\", line 1513, in full_dispatch_request\n",
      "    rv = self.dispatch_request()\n",
      "  File \"/opt/conda/lib/python3.9/site-packages/flask/app.py\", line 1499, in dispatch_request\n",
      "    return self.ensure_sync(self.view_functions[rule.endpoint])(**req.view_args)\n",
      "  File \"/opt/conda/lib/python3.9/site-packages/dash/dash.py\", line 1336, in dispatch\n",
      "    response.set_data(func(*args, outputs_list=outputs_list))\n",
      "  File \"/opt/conda/lib/python3.9/site-packages/dash/_callback.py\", line 151, in add_context\n",
      "    output_value = func(*func_args, **func_kwargs)  # %% callback invoked %%\n",
      "TypeError: Rent_Price_Limiter() takes 3 positional arguments but 6 were given\n"
     ]
    },
    {
     "name": "stderr",
     "output_type": "stream",
     "text": [
      "192.168.10.24 - - [25/Sep/2021 20:44:03] \"\u001b[35m\u001b[1mPOST /_dash-update-component HTTP/1.1\u001b[0m\" 500 -\n"
     ]
    },
    {
     "name": "stdout",
     "output_type": "stream",
     "text": [
      "Exception on /_dash-update-component [POST]\n",
      "Traceback (most recent call last):\n",
      "  File \"/opt/conda/lib/python3.9/site-packages/flask/app.py\", line 2070, in wsgi_app\n",
      "    response = self.full_dispatch_request()\n",
      "  File \"/opt/conda/lib/python3.9/site-packages/flask/app.py\", line 1515, in full_dispatch_request\n",
      "    rv = self.handle_user_exception(e)\n",
      "  File \"/opt/conda/lib/python3.9/site-packages/flask/app.py\", line 1513, in full_dispatch_request\n",
      "    rv = self.dispatch_request()\n",
      "  File \"/opt/conda/lib/python3.9/site-packages/flask/app.py\", line 1499, in dispatch_request\n",
      "    return self.ensure_sync(self.view_functions[rule.endpoint])(**req.view_args)\n",
      "  File \"/opt/conda/lib/python3.9/site-packages/dash/dash.py\", line 1336, in dispatch\n",
      "    response.set_data(func(*args, outputs_list=outputs_list))\n",
      "  File \"/opt/conda/lib/python3.9/site-packages/dash/_callback.py\", line 151, in add_context\n",
      "    output_value = func(*func_args, **func_kwargs)  # %% callback invoked %%\n",
      "TypeError: Rent_Price_Limiter() takes 3 positional arguments but 6 were given\n"
     ]
    },
    {
     "name": "stderr",
     "output_type": "stream",
     "text": [
      "192.168.10.24 - - [25/Sep/2021 20:44:03] \"\u001b[35m\u001b[1mPOST /_dash-update-component HTTP/1.1\u001b[0m\" 500 -\n"
     ]
    },
    {
     "name": "stdout",
     "output_type": "stream",
     "text": [
      "Exception on /_dash-update-component [POST]\n",
      "Traceback (most recent call last):\n",
      "  File \"/opt/conda/lib/python3.9/site-packages/flask/app.py\", line 2070, in wsgi_app\n",
      "    response = self.full_dispatch_request()\n",
      "  File \"/opt/conda/lib/python3.9/site-packages/flask/app.py\", line 1515, in full_dispatch_request\n",
      "    rv = self.handle_user_exception(e)\n",
      "  File \"/opt/conda/lib/python3.9/site-packages/flask/app.py\", line 1513, in full_dispatch_request\n",
      "    rv = self.dispatch_request()\n",
      "  File \"/opt/conda/lib/python3.9/site-packages/flask/app.py\", line 1499, in dispatch_request\n",
      "    return self.ensure_sync(self.view_functions[rule.endpoint])(**req.view_args)\n",
      "  File \"/opt/conda/lib/python3.9/site-packages/dash/dash.py\", line 1336, in dispatch\n",
      "    response.set_data(func(*args, outputs_list=outputs_list))\n",
      "  File \"/opt/conda/lib/python3.9/site-packages/dash/_callback.py\", line 151, in add_context\n",
      "    output_value = func(*func_args, **func_kwargs)  # %% callback invoked %%\n",
      "TypeError: Rent_Price_Limiter() takes 3 positional arguments but 6 were given\n"
     ]
    },
    {
     "name": "stderr",
     "output_type": "stream",
     "text": [
      "192.168.10.24 - - [25/Sep/2021 20:44:04] \"\u001b[35m\u001b[1mPOST /_dash-update-component HTTP/1.1\u001b[0m\" 500 -\n"
     ]
    },
    {
     "name": "stdout",
     "output_type": "stream",
     "text": [
      "Exception on /_dash-update-component [POST]\n",
      "Traceback (most recent call last):\n",
      "  File \"/opt/conda/lib/python3.9/site-packages/flask/app.py\", line 2070, in wsgi_app\n",
      "    response = self.full_dispatch_request()\n",
      "  File \"/opt/conda/lib/python3.9/site-packages/flask/app.py\", line 1515, in full_dispatch_request\n",
      "    rv = self.handle_user_exception(e)\n",
      "  File \"/opt/conda/lib/python3.9/site-packages/flask/app.py\", line 1513, in full_dispatch_request\n",
      "    rv = self.dispatch_request()\n",
      "  File \"/opt/conda/lib/python3.9/site-packages/flask/app.py\", line 1499, in dispatch_request\n",
      "    return self.ensure_sync(self.view_functions[rule.endpoint])(**req.view_args)\n",
      "  File \"/opt/conda/lib/python3.9/site-packages/dash/dash.py\", line 1336, in dispatch\n",
      "    response.set_data(func(*args, outputs_list=outputs_list))\n",
      "  File \"/opt/conda/lib/python3.9/site-packages/dash/_callback.py\", line 151, in add_context\n",
      "    output_value = func(*func_args, **func_kwargs)  # %% callback invoked %%\n",
      "TypeError: Rent_Price_Limiter() takes 3 positional arguments but 6 were given\n"
     ]
    },
    {
     "name": "stderr",
     "output_type": "stream",
     "text": [
      "192.168.10.24 - - [25/Sep/2021 20:44:04] \"\u001b[35m\u001b[1mPOST /_dash-update-component HTTP/1.1\u001b[0m\" 500 -\n"
     ]
    },
    {
     "name": "stdout",
     "output_type": "stream",
     "text": [
      "Exception on /_dash-update-component [POST]\n",
      "Traceback (most recent call last):\n",
      "  File \"/opt/conda/lib/python3.9/site-packages/flask/app.py\", line 2070, in wsgi_app\n",
      "    response = self.full_dispatch_request()\n",
      "  File \"/opt/conda/lib/python3.9/site-packages/flask/app.py\", line 1515, in full_dispatch_request\n",
      "    rv = self.handle_user_exception(e)\n",
      "  File \"/opt/conda/lib/python3.9/site-packages/flask/app.py\", line 1513, in full_dispatch_request\n",
      "    rv = self.dispatch_request()\n",
      "  File \"/opt/conda/lib/python3.9/site-packages/flask/app.py\", line 1499, in dispatch_request\n",
      "    return self.ensure_sync(self.view_functions[rule.endpoint])(**req.view_args)\n",
      "  File \"/opt/conda/lib/python3.9/site-packages/dash/dash.py\", line 1336, in dispatch\n",
      "    response.set_data(func(*args, outputs_list=outputs_list))\n",
      "  File \"/opt/conda/lib/python3.9/site-packages/dash/_callback.py\", line 151, in add_context\n",
      "    output_value = func(*func_args, **func_kwargs)  # %% callback invoked %%\n",
      "TypeError: Rent_Price_Limiter() takes 3 positional arguments but 6 were given\n"
     ]
    },
    {
     "name": "stderr",
     "output_type": "stream",
     "text": [
      "192.168.10.24 - - [25/Sep/2021 20:44:05] \"\u001b[35m\u001b[1mPOST /_dash-update-component HTTP/1.1\u001b[0m\" 500 -\n"
     ]
    },
    {
     "name": "stdout",
     "output_type": "stream",
     "text": [
      "Exception on /_dash-update-component [POST]\n",
      "Traceback (most recent call last):\n",
      "  File \"/opt/conda/lib/python3.9/site-packages/flask/app.py\", line 2070, in wsgi_app\n",
      "    response = self.full_dispatch_request()\n",
      "  File \"/opt/conda/lib/python3.9/site-packages/flask/app.py\", line 1515, in full_dispatch_request\n",
      "    rv = self.handle_user_exception(e)\n",
      "  File \"/opt/conda/lib/python3.9/site-packages/flask/app.py\", line 1513, in full_dispatch_request\n",
      "    rv = self.dispatch_request()\n",
      "  File \"/opt/conda/lib/python3.9/site-packages/flask/app.py\", line 1499, in dispatch_request\n",
      "    return self.ensure_sync(self.view_functions[rule.endpoint])(**req.view_args)\n",
      "  File \"/opt/conda/lib/python3.9/site-packages/dash/dash.py\", line 1336, in dispatch\n",
      "    response.set_data(func(*args, outputs_list=outputs_list))\n",
      "  File \"/opt/conda/lib/python3.9/site-packages/dash/_callback.py\", line 151, in add_context\n",
      "    output_value = func(*func_args, **func_kwargs)  # %% callback invoked %%\n",
      "TypeError: Rent_Price_Limiter() takes 3 positional arguments but 6 were given\n"
     ]
    },
    {
     "name": "stderr",
     "output_type": "stream",
     "text": [
      "192.168.10.24 - - [25/Sep/2021 20:44:05] \"\u001b[35m\u001b[1mPOST /_dash-update-component HTTP/1.1\u001b[0m\" 500 -\n"
     ]
    },
    {
     "name": "stdout",
     "output_type": "stream",
     "text": [
      "Exception on /_dash-update-component [POST]\n",
      "Traceback (most recent call last):\n",
      "  File \"/opt/conda/lib/python3.9/site-packages/flask/app.py\", line 2070, in wsgi_app\n",
      "    response = self.full_dispatch_request()\n",
      "  File \"/opt/conda/lib/python3.9/site-packages/flask/app.py\", line 1515, in full_dispatch_request\n",
      "    rv = self.handle_user_exception(e)\n",
      "  File \"/opt/conda/lib/python3.9/site-packages/flask/app.py\", line 1513, in full_dispatch_request\n",
      "    rv = self.dispatch_request()\n",
      "  File \"/opt/conda/lib/python3.9/site-packages/flask/app.py\", line 1499, in dispatch_request\n",
      "    return self.ensure_sync(self.view_functions[rule.endpoint])(**req.view_args)\n",
      "  File \"/opt/conda/lib/python3.9/site-packages/dash/dash.py\", line 1336, in dispatch\n",
      "    response.set_data(func(*args, outputs_list=outputs_list))\n",
      "  File \"/opt/conda/lib/python3.9/site-packages/dash/_callback.py\", line 151, in add_context\n",
      "    output_value = func(*func_args, **func_kwargs)  # %% callback invoked %%\n",
      "TypeError: Rent_Price_Limiter() takes 3 positional arguments but 6 were given\n"
     ]
    },
    {
     "name": "stderr",
     "output_type": "stream",
     "text": [
      "192.168.10.24 - - [25/Sep/2021 20:44:05] \"\u001b[35m\u001b[1mPOST /_dash-update-component HTTP/1.1\u001b[0m\" 500 -\n"
     ]
    },
    {
     "name": "stdout",
     "output_type": "stream",
     "text": [
      "Exception on /_dash-update-component [POST]\n",
      "Traceback (most recent call last):\n",
      "  File \"/opt/conda/lib/python3.9/site-packages/flask/app.py\", line 2070, in wsgi_app\n",
      "    response = self.full_dispatch_request()\n",
      "  File \"/opt/conda/lib/python3.9/site-packages/flask/app.py\", line 1515, in full_dispatch_request\n",
      "    rv = self.handle_user_exception(e)\n",
      "  File \"/opt/conda/lib/python3.9/site-packages/flask/app.py\", line 1513, in full_dispatch_request\n",
      "    rv = self.dispatch_request()\n",
      "  File \"/opt/conda/lib/python3.9/site-packages/flask/app.py\", line 1499, in dispatch_request\n",
      "    return self.ensure_sync(self.view_functions[rule.endpoint])(**req.view_args)\n",
      "  File \"/opt/conda/lib/python3.9/site-packages/dash/dash.py\", line 1336, in dispatch\n",
      "    response.set_data(func(*args, outputs_list=outputs_list))\n",
      "  File \"/opt/conda/lib/python3.9/site-packages/dash/_callback.py\", line 151, in add_context\n",
      "    output_value = func(*func_args, **func_kwargs)  # %% callback invoked %%\n",
      "TypeError: Rent_Price_Limiter() takes 3 positional arguments but 6 were given\n"
     ]
    },
    {
     "name": "stderr",
     "output_type": "stream",
     "text": [
      "192.168.10.24 - - [25/Sep/2021 20:44:06] \"\u001b[35m\u001b[1mPOST /_dash-update-component HTTP/1.1\u001b[0m\" 500 -\n"
     ]
    },
    {
     "name": "stdout",
     "output_type": "stream",
     "text": [
      "Exception on /_dash-update-component [POST]\n",
      "Traceback (most recent call last):\n",
      "  File \"/opt/conda/lib/python3.9/site-packages/flask/app.py\", line 2070, in wsgi_app\n",
      "    response = self.full_dispatch_request()\n",
      "  File \"/opt/conda/lib/python3.9/site-packages/flask/app.py\", line 1515, in full_dispatch_request\n",
      "    rv = self.handle_user_exception(e)\n",
      "  File \"/opt/conda/lib/python3.9/site-packages/flask/app.py\", line 1513, in full_dispatch_request\n",
      "    rv = self.dispatch_request()\n",
      "  File \"/opt/conda/lib/python3.9/site-packages/flask/app.py\", line 1499, in dispatch_request\n",
      "    return self.ensure_sync(self.view_functions[rule.endpoint])(**req.view_args)\n",
      "  File \"/opt/conda/lib/python3.9/site-packages/dash/dash.py\", line 1336, in dispatch\n",
      "    response.set_data(func(*args, outputs_list=outputs_list))\n",
      "  File \"/opt/conda/lib/python3.9/site-packages/dash/_callback.py\", line 151, in add_context\n",
      "    output_value = func(*func_args, **func_kwargs)  # %% callback invoked %%\n",
      "TypeError: Rent_Price_Limiter() takes 3 positional arguments but 6 were given\n"
     ]
    },
    {
     "name": "stderr",
     "output_type": "stream",
     "text": [
      "192.168.10.24 - - [25/Sep/2021 20:44:07] \"\u001b[35m\u001b[1mPOST /_dash-update-component HTTP/1.1\u001b[0m\" 500 -\n"
     ]
    },
    {
     "name": "stdout",
     "output_type": "stream",
     "text": [
      "Exception on /_dash-update-component [POST]\n",
      "Traceback (most recent call last):\n",
      "  File \"/opt/conda/lib/python3.9/site-packages/flask/app.py\", line 2070, in wsgi_app\n",
      "    response = self.full_dispatch_request()\n",
      "  File \"/opt/conda/lib/python3.9/site-packages/flask/app.py\", line 1515, in full_dispatch_request\n",
      "    rv = self.handle_user_exception(e)\n",
      "  File \"/opt/conda/lib/python3.9/site-packages/flask/app.py\", line 1513, in full_dispatch_request\n",
      "    rv = self.dispatch_request()\n",
      "  File \"/opt/conda/lib/python3.9/site-packages/flask/app.py\", line 1499, in dispatch_request\n",
      "    return self.ensure_sync(self.view_functions[rule.endpoint])(**req.view_args)\n",
      "  File \"/opt/conda/lib/python3.9/site-packages/dash/dash.py\", line 1336, in dispatch\n",
      "    response.set_data(func(*args, outputs_list=outputs_list))\n",
      "  File \"/opt/conda/lib/python3.9/site-packages/dash/_callback.py\", line 151, in add_context\n",
      "    output_value = func(*func_args, **func_kwargs)  # %% callback invoked %%\n",
      "TypeError: Rent_Price_Limiter() takes 3 positional arguments but 6 were given\n"
     ]
    },
    {
     "name": "stderr",
     "output_type": "stream",
     "text": [
      "192.168.10.24 - - [25/Sep/2021 20:44:07] \"\u001b[35m\u001b[1mPOST /_dash-update-component HTTP/1.1\u001b[0m\" 500 -\n"
     ]
    },
    {
     "name": "stdout",
     "output_type": "stream",
     "text": [
      "Exception on /_dash-update-component [POST]\n",
      "Traceback (most recent call last):\n",
      "  File \"/opt/conda/lib/python3.9/site-packages/flask/app.py\", line 2070, in wsgi_app\n",
      "    response = self.full_dispatch_request()\n",
      "  File \"/opt/conda/lib/python3.9/site-packages/flask/app.py\", line 1515, in full_dispatch_request\n",
      "    rv = self.handle_user_exception(e)\n",
      "  File \"/opt/conda/lib/python3.9/site-packages/flask/app.py\", line 1513, in full_dispatch_request\n",
      "    rv = self.dispatch_request()\n",
      "  File \"/opt/conda/lib/python3.9/site-packages/flask/app.py\", line 1499, in dispatch_request\n",
      "    return self.ensure_sync(self.view_functions[rule.endpoint])(**req.view_args)\n",
      "  File \"/opt/conda/lib/python3.9/site-packages/dash/dash.py\", line 1336, in dispatch\n",
      "    response.set_data(func(*args, outputs_list=outputs_list))\n",
      "  File \"/opt/conda/lib/python3.9/site-packages/dash/_callback.py\", line 151, in add_context\n",
      "    output_value = func(*func_args, **func_kwargs)  # %% callback invoked %%\n",
      "TypeError: Rent_Price_Limiter() takes 3 positional arguments but 6 were given\n"
     ]
    },
    {
     "name": "stderr",
     "output_type": "stream",
     "text": [
      "192.168.10.24 - - [25/Sep/2021 20:44:20] \"\u001b[35m\u001b[1mPOST /_dash-update-component HTTP/1.1\u001b[0m\" 500 -\n"
     ]
    },
    {
     "name": "stdout",
     "output_type": "stream",
     "text": [
      "Exception on /_dash-update-component [POST]\n",
      "Traceback (most recent call last):\n",
      "  File \"/opt/conda/lib/python3.9/site-packages/flask/app.py\", line 2070, in wsgi_app\n",
      "    response = self.full_dispatch_request()\n",
      "  File \"/opt/conda/lib/python3.9/site-packages/flask/app.py\", line 1515, in full_dispatch_request\n",
      "    rv = self.handle_user_exception(e)\n",
      "  File \"/opt/conda/lib/python3.9/site-packages/flask/app.py\", line 1513, in full_dispatch_request\n",
      "    rv = self.dispatch_request()\n",
      "  File \"/opt/conda/lib/python3.9/site-packages/flask/app.py\", line 1499, in dispatch_request\n",
      "    return self.ensure_sync(self.view_functions[rule.endpoint])(**req.view_args)\n",
      "  File \"/opt/conda/lib/python3.9/site-packages/dash/dash.py\", line 1336, in dispatch\n",
      "    response.set_data(func(*args, outputs_list=outputs_list))\n",
      "  File \"/opt/conda/lib/python3.9/site-packages/dash/_callback.py\", line 151, in add_context\n",
      "    output_value = func(*func_args, **func_kwargs)  # %% callback invoked %%\n",
      "TypeError: Rent_Price_Limiter() takes 3 positional arguments but 6 were given\n"
     ]
    },
    {
     "name": "stderr",
     "output_type": "stream",
     "text": [
      "192.168.10.24 - - [25/Sep/2021 20:44:21] \"\u001b[35m\u001b[1mPOST /_dash-update-component HTTP/1.1\u001b[0m\" 500 -\n",
      "192.168.10.24 - - [25/Sep/2021 20:44:23] \"GET /_dash-component-suites/dash/dcc/dash_core_components-shared.js.map HTTP/1.1\" 200 -\n",
      "192.168.10.24 - - [25/Sep/2021 20:44:23] \"GET /_dash-component-suites/dash/dash_table/bundle.js.map HTTP/1.1\" 200 -\n",
      "192.168.10.24 - - [25/Sep/2021 20:44:23] \"GET /_dash-component-suites/dash/dcc/dash_core_components.js.map HTTP/1.1\" 200 -\n",
      "192.168.10.24 - - [25/Sep/2021 20:44:23] \"GET /_dash-component-suites/dash/html/dash_html_components.min.js.map HTTP/1.1\" 200 -\n"
     ]
    }
   ],
   "source": [
    "app = dash.Dash(__name__)\n",
    "app.layout = html.Div(style={'text-align': 'center'}, children=[\n",
    "    html.H1('Flats for sel and rent in Warsaw',style={'textAlign': 'center','front-size' :50}),\n",
    "    html.Br(),\n",
    "    html.H2('red - sell',style={'textAlign': 'center', 'color': 'red', 'font-size': 30}),\n",
    "    html.H2('blue - rent',style={'textAlign': 'center', 'color': 'blue', 'font-size': 30}),\n",
    "    html.Br(),\n",
    "    html.H2('Sell'),\n",
    "    dcc.Input(id=\"Price_MIN_Sell\", type=\"number\", placeholder=\"Price MIN\", value=400000),\n",
    "    dcc.Input(id=\"Price_MAX_Sell\", type=\"number\", placeholder=\"Price MAX\", value=450000),\n",
    "    html.Button(id='my-button_Sell', n_clicks=0, children=\"Update\"),\n",
    "    html.Br(),\n",
    "    html.H2('Rent'),\n",
    "    dcc.Input(id=\"Price_MIN_Rent\", type=\"number\", placeholder=\"Price MIN\", value=1000),\n",
    "    dcc.Input(id=\"Price_MAX_Rent\", type=\"number\", placeholder=\"Price MAX\", value=10000),\n",
    "    html.Button(id='my-button_Rent', n_clicks=0, children=\"Update\"),\n",
    "    html.Br(),\n",
    "    html.Iframe(id = 'map', srcDoc = world_new().get_root().render(),\n",
    "                width = '700',height = '700')\n",
    "    ])\n",
    "@app.callback(\n",
    "    dash.dependencies.Output('map', 'srcDoc'),\n",
    "    [dash.dependencies.State('Price_MIN_Sell', 'value'),\n",
    "     dash.dependencies.State('Price_MAX_Sell', 'value'),\n",
    "     dash.dependencies.State('Price_MIN_Rent', 'value'),\n",
    "     dash.dependencies.State('Price_MAX_Rent', 'value')],\n",
    "    [dash.dependencies.Input('my-button_Sell', 'n_clicks'),\n",
    "    dash.dependencies.Input('my-button_Rent', 'n_clicks')]\n",
    "    )\n",
    "def Rent_Price_Limiter(Price_MIN_Rent, Price_MAX_Rent, n_clicks):\n",
    "    my_world = world_new()\n",
    "    lok_rent_limit = lok_rent[lok_rent.price.between(Price_MIN_Rent, Price_MAX_Rent, inclusive=False)]\n",
    "    lok_rent_limit = lok_rent_limit.reset_index(drop=True)\n",
    "    for row in range(len(lok_rent.index)):\n",
    "        folium.CircleMarker(\n",
    "            location=[lok_rent.at[row,'latitude'], lok_rent.at[row,'longitude']],\n",
    "            radius=3,\n",
    "            popup='Rent price: '+ str(lok_rent.at[row,'rent_price']),\n",
    "            color='blue',\n",
    "            fill=True,\n",
    "            fill_color='blue',\n",
    "            fill_opacity=1\n",
    "            ).add_to(my_world)\n",
    "\n",
    "    lok_sell_limit = lok_sell[lok_sell.price.between(Price_MIN_Sell, Price_MAX_Sell, inclusive=False)]\n",
    "    lok_sell_limit = lok_sell_limit.reset_index(drop=True)\n",
    "    for row in range(len(lok_sell_limit.index)):\n",
    "        folium.CircleMarker(\n",
    "            location=[lok_sell_limit.at[row,'latitude'], lok_sell_limit.at[row,'longitude']],\n",
    "            radius=3,\n",
    "            popup='Sell price: ' + str(lok_sell_limit.at[row,'price']),\n",
    "            color='red',\n",
    "            fill=True,\n",
    "            fill_color='red',\n",
    "            fill_opacity=1\n",
    "        ).add_to(my_world)\n",
    "    html_string = my_world.get_root().render()\n",
    "    return html_string\n",
    "\n",
    "if __name__ == '__main__':\n",
    "    app.run_server(host='0.0.0.0')"
   ]
  },
  {
   "cell_type": "code",
   "execution_count": null,
   "id": "33ee82b8",
   "metadata": {},
   "outputs": [],
   "source": []
  }
 ],
 "metadata": {
  "kernelspec": {
   "display_name": "Python 3",
   "language": "python",
   "name": "python3"
  },
  "language_info": {
   "codemirror_mode": {
    "name": "ipython",
    "version": 3
   },
   "file_extension": ".py",
   "mimetype": "text/x-python",
   "name": "python",
   "nbconvert_exporter": "python",
   "pygments_lexer": "ipython3",
   "version": "3.9.2"
  }
 },
 "nbformat": 4,
 "nbformat_minor": 5
}
